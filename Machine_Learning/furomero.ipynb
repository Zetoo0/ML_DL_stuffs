{
  "nbformat": 4,
  "nbformat_minor": 0,
  "metadata": {
    "colab": {
      "provenance": []
    },
    "kernelspec": {
      "name": "python3",
      "display_name": "Python 3"
    },
    "language_info": {
      "name": "python"
    }
  },
  "cells": [
    {
      "cell_type": "code",
      "source": [
        "import pandas as pd\n",
        "from sklearn.model_selection import GridSearchCV, train_test_split\n",
        "from sklearn.metrics import accuracy_score\n",
        "from sklearn import datasets\n",
        "from sklearn.ensemble import RandomForestClassifier\n",
        "from sklearn.preprocessing import StandardScaler\n",
        "from sklearn.svm import SVC\n",
        "from sklearn.metrics import classification_report\n",
        "from sklearn.inspection import permutation_importance\n",
        "import numpy as np\n",
        "import matplotlib.pyplot as plt\n",
        "from scipy import stats"
      ],
      "metadata": {
        "id": "Goi-tPgHKZbY"
      },
      "execution_count": 20,
      "outputs": []
    },
    {
      "cell_type": "markdown",
      "source": [],
      "metadata": {
        "id": "hJ2vrqhSGcPA"
      }
    },
    {
      "cell_type": "code",
      "source": [
        "df = pd.read_csv(\"/content/BAF3A.csv\")"
      ],
      "metadata": {
        "id": "8a-H53mxGc3F"
      },
      "execution_count": 3,
      "outputs": []
    },
    {
      "cell_type": "code",
      "source": [
        "#1db hiányzó sor eldobása\n",
        "df.dropna(inplace=True)\n",
        "#Adatok szétszedése\n",
        "X = df.drop(['ClassName', 'ClassValue'],axis=1)\n",
        "y = df['ClassValue']"
      ],
      "metadata": {
        "id": "grA3TnGCKbCh"
      },
      "execution_count": 4,
      "outputs": []
    },
    {
      "cell_type": "code",
      "source": [
        "X.info()\n",
        "y.info()"
      ],
      "metadata": {
        "colab": {
          "base_uri": "https://localhost:8080/"
        },
        "id": "fEQQ5npvKbi4",
        "outputId": "394f194c-c35c-46c2-bbd2-65bf6ecbf13e"
      },
      "execution_count": 5,
      "outputs": [
        {
          "output_type": "stream",
          "name": "stdout",
          "text": [
            "<class 'pandas.core.frame.DataFrame'>\n",
            "Index: 2038 entries, 0 to 2038\n",
            "Data columns (total 15 columns):\n",
            " #   Column        Non-Null Count  Dtype  \n",
            "---  ------        --------------  -----  \n",
            " 0   FromY         2038 non-null   float64\n",
            " 1   ToY           2038 non-null   float64\n",
            " 2   MeanY         2038 non-null   float64\n",
            " 3   DEL           2038 non-null   float64\n",
            " 4   DES           2038 non-null   float64\n",
            " 5   Ellenallas10  2038 non-null   float64\n",
            " 6   Ellenallas40  2038 non-null   float64\n",
            " 7   Gamma         2038 non-null   float64\n",
            " 8   Laterolog     2038 non-null   float64\n",
            " 9   Magneses      2038 non-null   float64\n",
            " 10  Neutron       2038 non-null   float64\n",
            " 11  Nyiro         2038 non-null   float64\n",
            " 12  Primer        2038 non-null   float64\n",
            " 13  Tavolsag      2038 non-null   float64\n",
            " 14  TermPot       2038 non-null   float64\n",
            "dtypes: float64(15)\n",
            "memory usage: 254.8 KB\n",
            "<class 'pandas.core.series.Series'>\n",
            "Index: 2038 entries, 0 to 2038\n",
            "Series name: ClassValue\n",
            "Non-Null Count  Dtype\n",
            "--------------  -----\n",
            "2038 non-null   int64\n",
            "dtypes: int64(1)\n",
            "memory usage: 31.8 KB\n"
          ]
        }
      ]
    },
    {
      "cell_type": "code",
      "source": [
        "X.head()"
      ],
      "metadata": {
        "colab": {
          "base_uri": "https://localhost:8080/",
          "height": 226
        },
        "id": "9wXEGmaQa7oC",
        "outputId": "f708f43c-65d8-4ceb-858e-0a9145ee58f6"
      },
      "execution_count": 6,
      "outputs": [
        {
          "output_type": "execute_result",
          "data": {
            "text/plain": [
              "    FromY     ToY    MeanY      DEL      DES  Ellenallas10  Ellenallas40  \\\n",
              "0  639.93  641.81 -640.870  2.58997  2.56996     22.930000     89.419998   \n",
              "1  641.81  641.89 -641.850  2.59000  2.58000     21.400101     82.090500   \n",
              "2  641.89  642.19 -642.040  2.54000  2.56000     21.010099     79.000702   \n",
              "3  642.19  642.60 -642.395  2.51001  2.57002     19.980000     75.019997   \n",
              "4  642.60  643.22 -642.910  2.53000  2.61998     18.340000     67.279999   \n",
              "\n",
              "       Gamma   Laterolog  Magneses    Neutron        Nyiro       Primer  \\\n",
              "0  22.889999  165.169998  -2.83251  27.690001  3044.139893  5102.450195   \n",
              "1  19.540001  156.330994  -2.82754  30.730000  2972.870117  4932.569824   \n",
              "2  20.610001  154.429993  -2.82367  29.360001  3016.590088  4975.049805   \n",
              "3  23.500000  147.039993  -2.83810  28.940001  2979.520020  4948.189941   \n",
              "4  25.670000  137.509995  -2.84827  32.229999  2855.100098  4841.290039   \n",
              "\n",
              "   Tavolsag     TermPot  \n",
              "0    -640.9 -424.000000  \n",
              "1    -641.8 -424.998993  \n",
              "2    -642.0 -426.998993  \n",
              "3    -642.4 -432.000000  \n",
              "4    -642.9 -429.000000  "
            ],
            "text/html": [
              "\n",
              "  <div id=\"df-5a85f96a-59f0-4148-89c9-4773e44e455b\" class=\"colab-df-container\">\n",
              "    <div>\n",
              "<style scoped>\n",
              "    .dataframe tbody tr th:only-of-type {\n",
              "        vertical-align: middle;\n",
              "    }\n",
              "\n",
              "    .dataframe tbody tr th {\n",
              "        vertical-align: top;\n",
              "    }\n",
              "\n",
              "    .dataframe thead th {\n",
              "        text-align: right;\n",
              "    }\n",
              "</style>\n",
              "<table border=\"1\" class=\"dataframe\">\n",
              "  <thead>\n",
              "    <tr style=\"text-align: right;\">\n",
              "      <th></th>\n",
              "      <th>FromY</th>\n",
              "      <th>ToY</th>\n",
              "      <th>MeanY</th>\n",
              "      <th>DEL</th>\n",
              "      <th>DES</th>\n",
              "      <th>Ellenallas10</th>\n",
              "      <th>Ellenallas40</th>\n",
              "      <th>Gamma</th>\n",
              "      <th>Laterolog</th>\n",
              "      <th>Magneses</th>\n",
              "      <th>Neutron</th>\n",
              "      <th>Nyiro</th>\n",
              "      <th>Primer</th>\n",
              "      <th>Tavolsag</th>\n",
              "      <th>TermPot</th>\n",
              "    </tr>\n",
              "  </thead>\n",
              "  <tbody>\n",
              "    <tr>\n",
              "      <th>0</th>\n",
              "      <td>639.93</td>\n",
              "      <td>641.81</td>\n",
              "      <td>-640.870</td>\n",
              "      <td>2.58997</td>\n",
              "      <td>2.56996</td>\n",
              "      <td>22.930000</td>\n",
              "      <td>89.419998</td>\n",
              "      <td>22.889999</td>\n",
              "      <td>165.169998</td>\n",
              "      <td>-2.83251</td>\n",
              "      <td>27.690001</td>\n",
              "      <td>3044.139893</td>\n",
              "      <td>5102.450195</td>\n",
              "      <td>-640.9</td>\n",
              "      <td>-424.000000</td>\n",
              "    </tr>\n",
              "    <tr>\n",
              "      <th>1</th>\n",
              "      <td>641.81</td>\n",
              "      <td>641.89</td>\n",
              "      <td>-641.850</td>\n",
              "      <td>2.59000</td>\n",
              "      <td>2.58000</td>\n",
              "      <td>21.400101</td>\n",
              "      <td>82.090500</td>\n",
              "      <td>19.540001</td>\n",
              "      <td>156.330994</td>\n",
              "      <td>-2.82754</td>\n",
              "      <td>30.730000</td>\n",
              "      <td>2972.870117</td>\n",
              "      <td>4932.569824</td>\n",
              "      <td>-641.8</td>\n",
              "      <td>-424.998993</td>\n",
              "    </tr>\n",
              "    <tr>\n",
              "      <th>2</th>\n",
              "      <td>641.89</td>\n",
              "      <td>642.19</td>\n",
              "      <td>-642.040</td>\n",
              "      <td>2.54000</td>\n",
              "      <td>2.56000</td>\n",
              "      <td>21.010099</td>\n",
              "      <td>79.000702</td>\n",
              "      <td>20.610001</td>\n",
              "      <td>154.429993</td>\n",
              "      <td>-2.82367</td>\n",
              "      <td>29.360001</td>\n",
              "      <td>3016.590088</td>\n",
              "      <td>4975.049805</td>\n",
              "      <td>-642.0</td>\n",
              "      <td>-426.998993</td>\n",
              "    </tr>\n",
              "    <tr>\n",
              "      <th>3</th>\n",
              "      <td>642.19</td>\n",
              "      <td>642.60</td>\n",
              "      <td>-642.395</td>\n",
              "      <td>2.51001</td>\n",
              "      <td>2.57002</td>\n",
              "      <td>19.980000</td>\n",
              "      <td>75.019997</td>\n",
              "      <td>23.500000</td>\n",
              "      <td>147.039993</td>\n",
              "      <td>-2.83810</td>\n",
              "      <td>28.940001</td>\n",
              "      <td>2979.520020</td>\n",
              "      <td>4948.189941</td>\n",
              "      <td>-642.4</td>\n",
              "      <td>-432.000000</td>\n",
              "    </tr>\n",
              "    <tr>\n",
              "      <th>4</th>\n",
              "      <td>642.60</td>\n",
              "      <td>643.22</td>\n",
              "      <td>-642.910</td>\n",
              "      <td>2.53000</td>\n",
              "      <td>2.61998</td>\n",
              "      <td>18.340000</td>\n",
              "      <td>67.279999</td>\n",
              "      <td>25.670000</td>\n",
              "      <td>137.509995</td>\n",
              "      <td>-2.84827</td>\n",
              "      <td>32.229999</td>\n",
              "      <td>2855.100098</td>\n",
              "      <td>4841.290039</td>\n",
              "      <td>-642.9</td>\n",
              "      <td>-429.000000</td>\n",
              "    </tr>\n",
              "  </tbody>\n",
              "</table>\n",
              "</div>\n",
              "    <div class=\"colab-df-buttons\">\n",
              "\n",
              "  <div class=\"colab-df-container\">\n",
              "    <button class=\"colab-df-convert\" onclick=\"convertToInteractive('df-5a85f96a-59f0-4148-89c9-4773e44e455b')\"\n",
              "            title=\"Convert this dataframe to an interactive table.\"\n",
              "            style=\"display:none;\">\n",
              "\n",
              "  <svg xmlns=\"http://www.w3.org/2000/svg\" height=\"24px\" viewBox=\"0 -960 960 960\">\n",
              "    <path d=\"M120-120v-720h720v720H120Zm60-500h600v-160H180v160Zm220 220h160v-160H400v160Zm0 220h160v-160H400v160ZM180-400h160v-160H180v160Zm440 0h160v-160H620v160ZM180-180h160v-160H180v160Zm440 0h160v-160H620v160Z\"/>\n",
              "  </svg>\n",
              "    </button>\n",
              "\n",
              "  <style>\n",
              "    .colab-df-container {\n",
              "      display:flex;\n",
              "      gap: 12px;\n",
              "    }\n",
              "\n",
              "    .colab-df-convert {\n",
              "      background-color: #E8F0FE;\n",
              "      border: none;\n",
              "      border-radius: 50%;\n",
              "      cursor: pointer;\n",
              "      display: none;\n",
              "      fill: #1967D2;\n",
              "      height: 32px;\n",
              "      padding: 0 0 0 0;\n",
              "      width: 32px;\n",
              "    }\n",
              "\n",
              "    .colab-df-convert:hover {\n",
              "      background-color: #E2EBFA;\n",
              "      box-shadow: 0px 1px 2px rgba(60, 64, 67, 0.3), 0px 1px 3px 1px rgba(60, 64, 67, 0.15);\n",
              "      fill: #174EA6;\n",
              "    }\n",
              "\n",
              "    .colab-df-buttons div {\n",
              "      margin-bottom: 4px;\n",
              "    }\n",
              "\n",
              "    [theme=dark] .colab-df-convert {\n",
              "      background-color: #3B4455;\n",
              "      fill: #D2E3FC;\n",
              "    }\n",
              "\n",
              "    [theme=dark] .colab-df-convert:hover {\n",
              "      background-color: #434B5C;\n",
              "      box-shadow: 0px 1px 3px 1px rgba(0, 0, 0, 0.15);\n",
              "      filter: drop-shadow(0px 1px 2px rgba(0, 0, 0, 0.3));\n",
              "      fill: #FFFFFF;\n",
              "    }\n",
              "  </style>\n",
              "\n",
              "    <script>\n",
              "      const buttonEl =\n",
              "        document.querySelector('#df-5a85f96a-59f0-4148-89c9-4773e44e455b button.colab-df-convert');\n",
              "      buttonEl.style.display =\n",
              "        google.colab.kernel.accessAllowed ? 'block' : 'none';\n",
              "\n",
              "      async function convertToInteractive(key) {\n",
              "        const element = document.querySelector('#df-5a85f96a-59f0-4148-89c9-4773e44e455b');\n",
              "        const dataTable =\n",
              "          await google.colab.kernel.invokeFunction('convertToInteractive',\n",
              "                                                    [key], {});\n",
              "        if (!dataTable) return;\n",
              "\n",
              "        const docLinkHtml = 'Like what you see? Visit the ' +\n",
              "          '<a target=\"_blank\" href=https://colab.research.google.com/notebooks/data_table.ipynb>data table notebook</a>'\n",
              "          + ' to learn more about interactive tables.';\n",
              "        element.innerHTML = '';\n",
              "        dataTable['output_type'] = 'display_data';\n",
              "        await google.colab.output.renderOutput(dataTable, element);\n",
              "        const docLink = document.createElement('div');\n",
              "        docLink.innerHTML = docLinkHtml;\n",
              "        element.appendChild(docLink);\n",
              "      }\n",
              "    </script>\n",
              "  </div>\n",
              "\n",
              "\n",
              "<div id=\"df-64297e79-707e-4ebc-878e-be4ec71ee4e0\">\n",
              "  <button class=\"colab-df-quickchart\" onclick=\"quickchart('df-64297e79-707e-4ebc-878e-be4ec71ee4e0')\"\n",
              "            title=\"Suggest charts\"\n",
              "            style=\"display:none;\">\n",
              "\n",
              "<svg xmlns=\"http://www.w3.org/2000/svg\" height=\"24px\"viewBox=\"0 0 24 24\"\n",
              "     width=\"24px\">\n",
              "    <g>\n",
              "        <path d=\"M19 3H5c-1.1 0-2 .9-2 2v14c0 1.1.9 2 2 2h14c1.1 0 2-.9 2-2V5c0-1.1-.9-2-2-2zM9 17H7v-7h2v7zm4 0h-2V7h2v10zm4 0h-2v-4h2v4z\"/>\n",
              "    </g>\n",
              "</svg>\n",
              "  </button>\n",
              "\n",
              "<style>\n",
              "  .colab-df-quickchart {\n",
              "      --bg-color: #E8F0FE;\n",
              "      --fill-color: #1967D2;\n",
              "      --hover-bg-color: #E2EBFA;\n",
              "      --hover-fill-color: #174EA6;\n",
              "      --disabled-fill-color: #AAA;\n",
              "      --disabled-bg-color: #DDD;\n",
              "  }\n",
              "\n",
              "  [theme=dark] .colab-df-quickchart {\n",
              "      --bg-color: #3B4455;\n",
              "      --fill-color: #D2E3FC;\n",
              "      --hover-bg-color: #434B5C;\n",
              "      --hover-fill-color: #FFFFFF;\n",
              "      --disabled-bg-color: #3B4455;\n",
              "      --disabled-fill-color: #666;\n",
              "  }\n",
              "\n",
              "  .colab-df-quickchart {\n",
              "    background-color: var(--bg-color);\n",
              "    border: none;\n",
              "    border-radius: 50%;\n",
              "    cursor: pointer;\n",
              "    display: none;\n",
              "    fill: var(--fill-color);\n",
              "    height: 32px;\n",
              "    padding: 0;\n",
              "    width: 32px;\n",
              "  }\n",
              "\n",
              "  .colab-df-quickchart:hover {\n",
              "    background-color: var(--hover-bg-color);\n",
              "    box-shadow: 0 1px 2px rgba(60, 64, 67, 0.3), 0 1px 3px 1px rgba(60, 64, 67, 0.15);\n",
              "    fill: var(--button-hover-fill-color);\n",
              "  }\n",
              "\n",
              "  .colab-df-quickchart-complete:disabled,\n",
              "  .colab-df-quickchart-complete:disabled:hover {\n",
              "    background-color: var(--disabled-bg-color);\n",
              "    fill: var(--disabled-fill-color);\n",
              "    box-shadow: none;\n",
              "  }\n",
              "\n",
              "  .colab-df-spinner {\n",
              "    border: 2px solid var(--fill-color);\n",
              "    border-color: transparent;\n",
              "    border-bottom-color: var(--fill-color);\n",
              "    animation:\n",
              "      spin 1s steps(1) infinite;\n",
              "  }\n",
              "\n",
              "  @keyframes spin {\n",
              "    0% {\n",
              "      border-color: transparent;\n",
              "      border-bottom-color: var(--fill-color);\n",
              "      border-left-color: var(--fill-color);\n",
              "    }\n",
              "    20% {\n",
              "      border-color: transparent;\n",
              "      border-left-color: var(--fill-color);\n",
              "      border-top-color: var(--fill-color);\n",
              "    }\n",
              "    30% {\n",
              "      border-color: transparent;\n",
              "      border-left-color: var(--fill-color);\n",
              "      border-top-color: var(--fill-color);\n",
              "      border-right-color: var(--fill-color);\n",
              "    }\n",
              "    40% {\n",
              "      border-color: transparent;\n",
              "      border-right-color: var(--fill-color);\n",
              "      border-top-color: var(--fill-color);\n",
              "    }\n",
              "    60% {\n",
              "      border-color: transparent;\n",
              "      border-right-color: var(--fill-color);\n",
              "    }\n",
              "    80% {\n",
              "      border-color: transparent;\n",
              "      border-right-color: var(--fill-color);\n",
              "      border-bottom-color: var(--fill-color);\n",
              "    }\n",
              "    90% {\n",
              "      border-color: transparent;\n",
              "      border-bottom-color: var(--fill-color);\n",
              "    }\n",
              "  }\n",
              "</style>\n",
              "\n",
              "  <script>\n",
              "    async function quickchart(key) {\n",
              "      const quickchartButtonEl =\n",
              "        document.querySelector('#' + key + ' button');\n",
              "      quickchartButtonEl.disabled = true;  // To prevent multiple clicks.\n",
              "      quickchartButtonEl.classList.add('colab-df-spinner');\n",
              "      try {\n",
              "        const charts = await google.colab.kernel.invokeFunction(\n",
              "            'suggestCharts', [key], {});\n",
              "      } catch (error) {\n",
              "        console.error('Error during call to suggestCharts:', error);\n",
              "      }\n",
              "      quickchartButtonEl.classList.remove('colab-df-spinner');\n",
              "      quickchartButtonEl.classList.add('colab-df-quickchart-complete');\n",
              "    }\n",
              "    (() => {\n",
              "      let quickchartButtonEl =\n",
              "        document.querySelector('#df-64297e79-707e-4ebc-878e-be4ec71ee4e0 button');\n",
              "      quickchartButtonEl.style.display =\n",
              "        google.colab.kernel.accessAllowed ? 'block' : 'none';\n",
              "    })();\n",
              "  </script>\n",
              "</div>\n",
              "    </div>\n",
              "  </div>\n"
            ],
            "application/vnd.google.colaboratory.intrinsic+json": {
              "type": "dataframe",
              "variable_name": "X",
              "summary": "{\n  \"name\": \"X\",\n  \"rows\": 2038,\n  \"fields\": [\n    {\n      \"column\": \"FromY\",\n      \"properties\": {\n        \"dtype\": \"number\",\n        \"std\": 222.1573056673466,\n        \"min\": 0.96,\n        \"max\": 844.57,\n        \"num_unique_values\": 2031,\n        \"samples\": [\n          479.08,\n          552.93,\n          439.59\n        ],\n        \"semantic_type\": \"\",\n        \"description\": \"\"\n      }\n    },\n    {\n      \"column\": \"ToY\",\n      \"properties\": {\n        \"dtype\": \"number\",\n        \"std\": 222.0513171654625,\n        \"min\": 2.1,\n        \"max\": 845.04,\n        \"num_unique_values\": 2031,\n        \"samples\": [\n          479.7,\n          553.03,\n          439.6\n        ],\n        \"semantic_type\": \"\",\n        \"description\": \"\"\n      }\n    },\n    {\n      \"column\": \"MeanY\",\n      \"properties\": {\n        \"dtype\": \"number\",\n        \"std\": 222.10412474436876,\n        \"min\": -844.805,\n        \"max\": -1.53,\n        \"num_unique_values\": 2032,\n        \"samples\": [\n          -479.39,\n          -552.98,\n          -439.595\n        ],\n        \"semantic_type\": \"\",\n        \"description\": \"\"\n      }\n    },\n    {\n      \"column\": \"DEL\",\n      \"properties\": {\n        \"dtype\": \"number\",\n        \"std\": 0.12303579920481515,\n        \"min\": 1.48001,\n        \"max\": 3.1199999,\n        \"num_unique_values\": 289,\n        \"samples\": [\n          2.55002,\n          2.70998,\n          2.4500301\n        ],\n        \"semantic_type\": \"\",\n        \"description\": \"\"\n      }\n    },\n    {\n      \"column\": \"DES\",\n      \"properties\": {\n        \"dtype\": \"number\",\n        \"std\": 0.1407308262586271,\n        \"min\": 1.24001,\n        \"max\": 3.5699999,\n        \"num_unique_values\": 338,\n        \"samples\": [\n          2.5900099,\n          2.2282922,\n          2.6600101\n        ],\n        \"semantic_type\": \"\",\n        \"description\": \"\"\n      }\n    },\n    {\n      \"column\": \"Ellenallas10\",\n      \"properties\": {\n        \"dtype\": \"number\",\n        \"std\": 19.999272526515558,\n        \"min\": 9.3699808,\n        \"max\": 171.0699921,\n        \"num_unique_values\": 1486,\n        \"samples\": [\n          32.169899,\n          20.4200001,\n          31.5400009\n        ],\n        \"semantic_type\": \"\",\n        \"description\": \"\"\n      }\n    },\n    {\n      \"column\": \"Ellenallas40\",\n      \"properties\": {\n        \"dtype\": \"number\",\n        \"std\": 40.38218975885481,\n        \"min\": 10.4600019,\n        \"max\": 410.039978,\n        \"num_unique_values\": 1767,\n        \"samples\": [\n          68.5599976,\n          70.7201004,\n          31.2798004\n        ],\n        \"semantic_type\": \"\",\n        \"description\": \"\"\n      }\n    },\n    {\n      \"column\": \"Gamma\",\n      \"properties\": {\n        \"dtype\": \"number\",\n        \"std\": 9.803619325276843,\n        \"min\": 12.4000006,\n        \"max\": 296.6799927,\n        \"num_unique_values\": 1144,\n        \"samples\": [\n          23.5400009,\n          22.9099998,\n          23.7999992\n        ],\n        \"semantic_type\": \"\",\n        \"description\": \"\"\n      }\n    },\n    {\n      \"column\": \"Laterolog\",\n      \"properties\": {\n        \"dtype\": \"number\",\n        \"std\": 65.45113285815547,\n        \"min\": 30.7100029,\n        \"max\": 785.6399536,\n        \"num_unique_values\": 1758,\n        \"samples\": [\n          134.8200073,\n          116.75,\n          151.1999969\n        ],\n        \"semantic_type\": \"\",\n        \"description\": \"\"\n      }\n    },\n    {\n      \"column\": \"Magneses\",\n      \"properties\": {\n        \"dtype\": \"number\",\n        \"std\": 0.06525007526709155,\n        \"min\": -3.0644,\n        \"max\": -0.9182681,\n        \"num_unique_values\": 1155,\n        \"samples\": [\n          -2.95943,\n          -2.82793,\n          -2.84549\n        ],\n        \"semantic_type\": \"\",\n        \"description\": \"\"\n      }\n    },\n    {\n      \"column\": \"Neutron\",\n      \"properties\": {\n        \"dtype\": \"number\",\n        \"std\": 5.669519778770946,\n        \"min\": 3.3501101,\n        \"max\": 54.4099998,\n        \"num_unique_values\": 1215,\n        \"samples\": [\n          30.8999996,\n          29.8398991,\n          36.0900002\n        ],\n        \"semantic_type\": \"\",\n        \"description\": \"\"\n      }\n    },\n    {\n      \"column\": \"Nyiro\",\n      \"properties\": {\n        \"dtype\": \"number\",\n        \"std\": 178.00954302706145,\n        \"min\": 1867.410034,\n        \"max\": 3133.570068,\n        \"num_unique_values\": 912,\n        \"samples\": [\n          2669.77002,\n          2422.026123,\n          2303.151123\n        ],\n        \"semantic_type\": \"\",\n        \"description\": \"\"\n      }\n    },\n    {\n      \"column\": \"Primer\",\n      \"properties\": {\n        \"dtype\": \"number\",\n        \"std\": 471.2595207305859,\n        \"min\": 2341.600098,\n        \"max\": 5587.939941,\n        \"num_unique_values\": 1827,\n        \"samples\": [\n          4912.930176,\n          4016.01001,\n          3686.530029\n        ],\n        \"semantic_type\": \"\",\n        \"description\": \"\"\n      }\n    },\n    {\n      \"column\": \"Tavolsag\",\n      \"properties\": {\n        \"dtype\": \"number\",\n        \"std\": 222.10470957205365,\n        \"min\": -844.8,\n        \"max\": -1.5,\n        \"num_unique_values\": 1835,\n        \"samples\": [\n          -482.9,\n          -792.1,\n          -609.1\n        ],\n        \"semantic_type\": \"\",\n        \"description\": \"\"\n      }\n    },\n    {\n      \"column\": \"TermPot\",\n      \"properties\": {\n        \"dtype\": \"number\",\n        \"std\": 438.36323344578983,\n        \"min\": -444.0,\n        \"max\": 2233.0,\n        \"num_unique_values\": 321,\n        \"samples\": [\n          866.0,\n          1175.0,\n          450.0\n        ],\n        \"semantic_type\": \"\",\n        \"description\": \"\"\n      }\n    }\n  ]\n}"
            }
          },
          "metadata": {},
          "execution_count": 6
        }
      ]
    },
    {
      "cell_type": "code",
      "source": [
        "#teszt és tanító adatokra bontás\n",
        "X_train,X_test,y_train,y_test = train_test_split(X,y,train_size=0.8,test_size=0.2,random_state=41)\n"
      ],
      "metadata": {
        "id": "OzoXUHL_3QQD"
      },
      "execution_count": 7,
      "outputs": []
    },
    {
      "cell_type": "code",
      "source": [
        "#---------------------------------RANDOM FOREST----------------------------------------------------------------\n",
        "\n",
        "#Adatok standardizálása 0 és 1 közé, majd a train és teszt adatok átalakítása\n",
        "scaler = StandardScaler()\n",
        "X_train_std = scaler.fit_transform(X_train)\n",
        "X_test_std = scaler.transform(X_test)\n",
        "\n",
        "#erdő pldányosítása 500 becslővel\n",
        "forest = RandomForestClassifier(n_estimators=500,random_state=1)\n",
        "\n",
        "forest.fit(X_train_std,y_train)\n",
        "print(\"Test Accuracy: %0.2f\" % forest.score(X_test_std, y_test))"
      ],
      "metadata": {
        "colab": {
          "base_uri": "https://localhost:8080/"
        },
        "id": "VpQC7GgTQgxg",
        "outputId": "2d5d63a1-d4a8-4417-a8e5-fda39be2408d"
      },
      "execution_count": 8,
      "outputs": [
        {
          "output_type": "stream",
          "name": "stdout",
          "text": [
            "Test Accuracy: 0.81\n"
          ]
        }
      ]
    },
    {
      "cell_type": "code",
      "source": [
        "importances = forest.feature_importances_#erdőben levő adatok fontossága\n",
        "indicies = np.argsort(importances)[::-1]#indexelés\n",
        "\n",
        "#y érték beállítása\n",
        "plt.ylabel = \"Feature Importances\"\n",
        "plt.bar(range(X_train.shape[1]),importances[indicies],align='center')\n",
        "\n",
        "#x érték beállítása\n",
        "feature_labels = df.columns[1:]\n",
        "plt.xticks(range(X_train.shape[1]),feature_labels[indicies],rotation=90)\n",
        "plt.xlim([-1,X_train.shape[1]])\n",
        "\n",
        "#grafikon mentése és mutatása\n",
        "plt.tight_layout()\n",
        "plt.savefig('feature-importance.pdf', dpi=300)\n",
        "plt.show()"
      ],
      "metadata": {
        "colab": {
          "base_uri": "https://localhost:8080/",
          "height": 487
        },
        "id": "S1ii9WoyRDk5",
        "outputId": "d6af4338-a1da-448f-91de-01223f8b0ee9"
      },
      "execution_count": 9,
      "outputs": [
        {
          "output_type": "display_data",
          "data": {
            "text/plain": [
              "<Figure size 640x480 with 1 Axes>"
            ],
            "image/png": "[encoded data removed]"
          },
          "metadata": {}
        }
      ]
    },
    {
      "cell_type": "code",
      "source": [
        "#----------------------------------------SUPPORT VECTOR MACHINE-----------------------------------------------------\n",
        "svc = SVC(kernel='rbf')\n",
        "\n",
        "#C és gamma hiperparaméterek beállítása\n",
        "parameters = {\n",
        "    'C' : (100,1e3,1e4,1e5),\n",
        "    'gamma' : (1e-8,1e-7,1e-6,1e-5)\n",
        "}\n",
        "\n",
        "#Gridsearch példányosítása, illesztése\n",
        "gridsearch = GridSearchCV(svc,parameters, n_jobs = 1, cv=5)\n",
        "gridsearch.fit(X_train,y_train)\n",
        "\n",
        "svc_best = gridsearch.best_estimator_#legjobb becslő\n",
        "accuracy = svc_best.score(X_test,y_test)#legjobb becslő pontossága teszt adatoton\n",
        "prediction = svc_best.predict(X_test)#legjobb becslő előrejelzése\n",
        "\n",
        "#legjobb paraméterek, pontosság kiírása\n",
        "print(f\"Legjobb paraméterek: {gridsearch.best_params_}\")\n",
        "print(f'Pontosság: {accuracy*100:.1f}%')\n",
        "\n",
        "#report készítése a teszt és predictionből\n",
        "report = classification_report(y_test,prediction)\n",
        "print(report)"
      ],
      "metadata": {
        "id": "UL_Wt3nyqn1o",
        "colab": {
          "base_uri": "https://localhost:8080/"
        },
        "outputId": "9f393f5d-f8bc-4295-804d-a4dd0615aea6"
      },
      "execution_count": 12,
      "outputs": [
        {
          "output_type": "stream",
          "name": "stderr",
          "text": [
            "/usr/local/lib/python3.10/dist-packages/sklearn/model_selection/_split.py:700: UserWarning: The least populated class in y has only 1 members, which is less than n_splits=5.\n",
            "  warnings.warn(\n"
          ]
        },
        {
          "output_type": "stream",
          "name": "stdout",
          "text": [
            "Legjobb paraméterek: {'C': 10000.0, 'gamma': 1e-07}\n",
            "Legjobb pontosság: 0.8300613496932516\n",
            "The accuracy is: 83.6%\n",
            "              precision    recall  f1-score   support\n",
            "\n",
            "           1       0.00      0.00      0.00         1\n",
            "           2       0.77      0.96      0.86        96\n",
            "           5       1.00      0.05      0.09        21\n",
            "           6       0.87      0.98      0.92       250\n",
            "           7       0.57      0.11      0.18        37\n",
            "           8       0.00      0.00      0.00         3\n",
            "\n",
            "    accuracy                           0.84       408\n",
            "   macro avg       0.54      0.35      0.34       408\n",
            "weighted avg       0.82      0.84      0.79       408\n",
            "\n"
          ]
        },
        {
          "output_type": "stream",
          "name": "stderr",
          "text": [
            "/usr/local/lib/python3.10/dist-packages/sklearn/metrics/_classification.py:1344: UndefinedMetricWarning: Precision and F-score are ill-defined and being set to 0.0 in labels with no predicted samples. Use `zero_division` parameter to control this behavior.\n",
            "  _warn_prf(average, modifier, msg_start, len(result))\n",
            "/usr/local/lib/python3.10/dist-packages/sklearn/metrics/_classification.py:1344: UndefinedMetricWarning: Precision and F-score are ill-defined and being set to 0.0 in labels with no predicted samples. Use `zero_division` parameter to control this behavior.\n",
            "  _warn_prf(average, modifier, msg_start, len(result))\n",
            "/usr/local/lib/python3.10/dist-packages/sklearn/metrics/_classification.py:1344: UndefinedMetricWarning: Precision and F-score are ill-defined and being set to 0.0 in labels with no predicted samples. Use `zero_division` parameter to control this behavior.\n",
            "  _warn_prf(average, modifier, msg_start, len(result))\n"
          ]
        }
      ]
    },
    {
      "cell_type": "code",
      "source": [
        "#SVM-nél jellemzők fontossága\n",
        "\n",
        "perm_importance = permutation_importance(svc_best, X_test, y_test)# svc bestben jellemzők fontossága a teszt adatokon\n",
        "\n",
        "X_names = X.columns.to_list()#x oszlopai listává alakítása\n",
        "features = np.array(X_names)#lista numpy tömbbé alakítása\n",
        "\n",
        "sorted_idx = perm_importance.importances_mean.argsort()#argumentuom rendezése\n",
        "plt.barh(features[sorted_idx], perm_importance.importances_mean[sorted_idx])\n",
        "plt.xlabel(\"Permutation Importance\")"
      ],
      "metadata": {
        "colab": {
          "base_uri": "https://localhost:8080/",
          "height": 467
        },
        "id": "7PdVP8M_x1Yw",
        "outputId": "d446f76e-db22-4145-ebb2-2817471799c9"
      },
      "execution_count": 19,
      "outputs": [
        {
          "output_type": "execute_result",
          "data": {
            "text/plain": [
              "Text(0.5, 0, 'Permutation Importance')"
            ]
          },
          "metadata": {},
          "execution_count": 19
        },
        {
          "output_type": "display_data",
          "data": {
            "text/plain": [
              "<Figure size 640x480 with 1 Axes>"
            ],
            "image/png": "[encoded data removed]"
          },
          "metadata": {}
        }
      ]
    }
  ]
}